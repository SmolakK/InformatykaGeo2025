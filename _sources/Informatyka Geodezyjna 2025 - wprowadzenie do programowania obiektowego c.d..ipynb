{
 "cells": [
  {
   "cell_type": "markdown",
   "id": "49027899",
   "metadata": {},
   "source": [
    "# Informatyka Geodezyjna 2025 - wprowadzenie do programowania obiektowego c.d.\n",
    "\n",
    "## Uporządkowanie wiedzy o klasach\n",
    "\n",
    "<b>Klasa</b> to <i>abstrakcja</i> pewnego obiektu. Oznacza to uogólnieniony opis pewnego elementu, który zdefiniowany jest przez taką klasę poprzez określenie jego typowych <b>cech (atrybutów) i operacji (metod), które można na nim wykonać</b>. Tą samą strukturą opisujemy elementy świata rzeczywistego.\n",
    "    \n",
    "Przykład obrazujący:\n",
    "\n",
    "<b>Konto bankowe</b> to abstrakcyjna klasa, którą opisujemy pewien element systemu finansowego.\n",
    "Ma cechy (atrybuty):\n",
    "<ul>\n",
    "    <li>Stan</li>\n",
    "    <li>Właściciel</li>\n",
    "</ul>\n",
    "\n",
    "Oraz metody:\n",
    "<ul>\n",
    "    <li>Depozty</li>\n",
    "    <li>Pobierz kwotę</li>\n",
    "</ul>\n",
    "\n",
    "<img src=\"bell_fig5.jpg\"/>\n",
    "\n",
    "## Instancja\n",
    "\n",
    "To praktyczna realizacja klasy.\n",
    "\n",
    "Kontynuując przykład obrazujący:\n",
    "\n",
    "Tworząc nowe konto bankowe ustanawiamy instancję klasy i *przypisujemy* jej właściwości - stan i właściciela. Wtedy otrzymujemy <b> instancję</b> klasy konta banowego w postaci <i>konta (np. Marka Nowaka)</i>.\n",
    "\n",
    "## Paradygmaty programowania obiektowego\n",
    "\n",
    "1. Abstrakcja\n",
    "2. Enkapsulacja (hermetyzacja)\n",
    "3. Dziediczenie\n",
    "4. Polimorfizm\n",
    "\n",
    "### Abstrakcja\n",
    "\n",
    "Abstrakcja polega na ukrywaniu złożoności i eksponowaniu tylko najistotniejszych cech obiektu. Dzięki temu możemy myśleć o obiektach na wyższym poziomie ogólności, bez zagłębiania się w szczegóły implementacyjne.\n"
   ]
  },
  {
   "cell_type": "code",
   "execution_count": 1,
   "id": "04819fbf",
   "metadata": {},
   "outputs": [],
   "source": [
    "class Osoba:\n",
    "    def __init__(self, imie, wiek): # konstruktor klasy Osoba\n",
    "        self.imie = imie # atrybut klasy\n",
    "        self.wiek = wiek\n",
    "\n",
    "    def przedstaw_sie(self): # metoda\n",
    "        #print(f\"Nazywam się {self.imie} i mam {self.wiek} lat.\")\n",
    "        return (f\"Nazywam się {self.imie} i mam {self.wiek} lat.\")"
   ]
  },
  {
   "cell_type": "markdown",
   "id": "a9446478",
   "metadata": {},
   "source": [
    "## Polimorfizm\n",
    "\n",
    "Polimorfizm umożliwia stosowanie jednego interfejsu do różnych typów obiektów. Dzięki temu możemy pisać kod, który działa ogólnie, a szczegóły zachowania zależą od konkretnej implementacji."
   ]
  },
  {
   "cell_type": "code",
   "execution_count": 2,
   "id": "50aff543",
   "metadata": {},
   "outputs": [
    {
     "name": "stdout",
     "output_type": "stream",
     "text": [
      "Miau!\n",
      "Hau!\n"
     ]
    }
   ],
   "source": [
    "class Zwierze:\n",
    "    def daj_glos(self):\n",
    "        pass  # Klasa bazowa nie ma konkretnej implementacji\n",
    "\n",
    "class Kot(Zwierze):\n",
    "    def daj_glos(self): # daj_glos jest zatem funkcją polimorficzną (działa inaczej dla Kot i inaczej dla Pies)\n",
    "        return \"Miau!\"\n",
    "\n",
    "class Pies(Zwierze):\n",
    "    def daj_glos(self):\n",
    "        return \"Hau!\"\n",
    "\n",
    "def odtworz_dzwiek(zwierze):\n",
    "    print(zwierze.daj_glos())\n",
    "\n",
    "kot1 = Kot()\n",
    "pies1 = Pies()\n",
    "odtworz_dzwiek(kot1)  # Miau!\n",
    "odtworz_dzwiek(pies1)  # Hau!"
   ]
  },
  {
   "cell_type": "markdown",
   "id": "e8cc8515",
   "metadata": {},
   "source": [
    "### Dziedziczenie\n",
    "\n",
    "Dziedziczenie pozwala tworzyć nowe klasy na podstawie już istniejących. Nowa klasa (tzw. klasa potomna) dziedziczy właściwości i metody klasy bazowej, a dodatkowo może je rozszerzać lub nadpisywać. Przykład również powyżej."
   ]
  },
  {
   "cell_type": "markdown",
   "id": "d3d439dd",
   "metadata": {},
   "source": [
    "## Enkapsulacja (Hermetyzacja)\n",
    "\n",
    "Hermetyzacja (enkapsulacja) to zasada programowania obiektowego polegająca na ukrywaniu wewnętrznych szczegółów implementacji klasy i udostępnianiu tylko niezbędnych interfejsów do manipulacji danymi. Dzięki hermetyzacji dane obiektu są chronione przed bezpośrednią modyfikacją, co zwiększa bezpieczeństwo i kontrolę nad ich zmianami. W Pythonie hermetyzację realizuje się poprzez stosowanie modyfikatorów dostępu, takich jak:\n",
    "\n",
    "    Prywatne atrybuty (__atrybut) – ukrywane przed bezpośrednim dostępem,\n",
    "    Chronione atrybuty (_atrybut) – wskazujące na wewnętrzne użycie,\n",
    "    Metody dostępowe (gettery i settery) – zapewniające kontrolowany dostęp do danych.\n",
    "    \n",
    "Hermetyzacja pomaga w utrzymaniu integralności danych, ułatwia debugowanie i poprawia modularność kodu.\n",
    "\n",
    "Domyślnie pisaliśmy tak:"
   ]
  },
  {
   "cell_type": "code",
   "execution_count": 9,
   "id": "30e04499",
   "metadata": {},
   "outputs": [],
   "source": [
    "class Osoba():\n",
    "    \n",
    "    \n",
    "    def __init__(self, imie, nazwisko, data_urodzenia):\n",
    "        self.imie = imie\n",
    "        self.nazwisko = nazwisko\n",
    "        self.data_urodzenia = data_urodzenia\n",
    "    \n",
    "    def przedstaw_sie(self):\n",
    "        return f\"Jestem {self.imie} {self.nazwisko}\""
   ]
  },
  {
   "cell_type": "code",
   "execution_count": 10,
   "id": "a16fb5ad",
   "metadata": {},
   "outputs": [],
   "source": [
    "jurek = Osoba(\"Jurek\",\"Kiler\",\"10-10-1974\")"
   ]
  },
  {
   "cell_type": "code",
   "execution_count": 11,
   "id": "4c52f1b4",
   "metadata": {},
   "outputs": [
    {
     "data": {
      "text/plain": [
       "'Jurek'"
      ]
     },
     "execution_count": 11,
     "metadata": {},
     "output_type": "execute_result"
    }
   ],
   "source": [
    "jurek.imie"
   ]
  },
  {
   "cell_type": "code",
   "execution_count": 20,
   "id": "4c0531ad",
   "metadata": {},
   "outputs": [
    {
     "data": {
      "text/plain": [
       "'Jestem Jurek Kiler'"
      ]
     },
     "execution_count": 20,
     "metadata": {},
     "output_type": "execute_result"
    }
   ],
   "source": [
    "jurek.przedstaw_sie()"
   ]
  },
  {
   "cell_type": "markdown",
   "id": "4a851cc8",
   "metadata": {},
   "source": [
    "Stosujemy jednak enkapsulację:"
   ]
  },
  {
   "cell_type": "code",
   "execution_count": 17,
   "id": "c96784cd",
   "metadata": {},
   "outputs": [],
   "source": [
    "class Osoba():\n",
    "    \n",
    "\n",
    "    def __init__(self, imie, nazwisko, data_urodzenia):\n",
    "        self._imie = imie\n",
    "        self._nazwisko = nazwisko\n",
    "        self._data_urodzenia = data_urodzenia\n",
    "\n",
    "    def przedstaw_sie(self):\n",
    "        return f\"Jestem {self._imie} {self._nazwisko}\""
   ]
  },
  {
   "cell_type": "code",
   "execution_count": 18,
   "id": "bb0f034c",
   "metadata": {},
   "outputs": [],
   "source": [
    "jurek = Osoba(\"Jurek\",\"Kiler\",\"10-10-1974\")"
   ]
  },
  {
   "cell_type": "code",
   "execution_count": 19,
   "id": "9dce1c42",
   "metadata": {},
   "outputs": [
    {
     "ename": "AttributeError",
     "evalue": "'Osoba' object has no attribute 'imie'",
     "output_type": "error",
     "traceback": [
      "\u001b[1;31m---------------------------------------------------------------------------\u001b[0m",
      "\u001b[1;31mAttributeError\u001b[0m                            Traceback (most recent call last)",
      "Input \u001b[1;32mIn [19]\u001b[0m, in \u001b[0;36m<cell line: 1>\u001b[1;34m()\u001b[0m\n\u001b[1;32m----> 1\u001b[0m \u001b[43mjurek\u001b[49m\u001b[38;5;241;43m.\u001b[39;49m\u001b[43mimie\u001b[49m\n",
      "\u001b[1;31mAttributeError\u001b[0m: 'Osoba' object has no attribute 'imie'"
     ]
    }
   ],
   "source": [
    "jurek.imie"
   ]
  },
  {
   "cell_type": "code",
   "execution_count": 21,
   "id": "11039d8f",
   "metadata": {},
   "outputs": [
    {
     "data": {
      "text/plain": [
       "'Jestem Jurek Kiler'"
      ]
     },
     "execution_count": 21,
     "metadata": {},
     "output_type": "execute_result"
    }
   ],
   "source": [
    "jurek.przedstaw_sie()"
   ]
  },
  {
   "cell_type": "markdown",
   "id": "aaf66200",
   "metadata": {},
   "source": [
    "#### Chronione atrybuty\n",
    "\n",
    "Chronione atrybuty są oznaczane przez pojedynczy podkreślnik na początku nazwy. To konwencja, która sugeruje, że atrybut nie powinien być używany bezpośrednio poza klasą lub klasami dziedziczącymi. Python jednak nie blokuje dostępu do tych atrybutów — to tylko „umowna zasada”."
   ]
  },
  {
   "cell_type": "code",
   "execution_count": 16,
   "id": "504bfa20",
   "metadata": {},
   "outputs": [
    {
     "data": {
      "text/plain": [
       "'Jurek'"
      ]
     },
     "execution_count": 16,
     "metadata": {},
     "output_type": "execute_result"
    }
   ],
   "source": [
    "jurek._imie"
   ]
  },
  {
   "cell_type": "markdown",
   "id": "037c369c",
   "metadata": {},
   "source": [
    "#### Prywatne atrybuty\n",
    "\n",
    "Prywatne atrybuty mają dwa podkreślniki przed nazwą. Python stosuje wtedy mechanizm name mangling, czyli zmienia nazwę atrybutu wewnętrznie, aby utrudnić (choć nie uniemożliwić) dostęp z zewnątrz."
   ]
  },
  {
   "cell_type": "code",
   "execution_count": 22,
   "id": "1e2de1f0",
   "metadata": {},
   "outputs": [],
   "source": [
    "class Osoba:\n",
    "    def __init__(self, imie, nazwisko, data_urodzenia):\n",
    "        self.__imie = imie  # prywatny atrybut\n",
    "        self.__nazwisko = nazwisko\n",
    "        self.__data_urodzenia = data_urodzenia\n",
    "\n",
    "    def przedstaw_sie(self):\n",
    "        return f\"Nazywam się {self.__imie} {self.__nazwisko}\"\n"
   ]
  },
  {
   "cell_type": "code",
   "execution_count": 23,
   "id": "053030ac",
   "metadata": {},
   "outputs": [],
   "source": [
    "jurek = Osoba(\"Jurek\",\"Kiler\",\"10-10-1974\")"
   ]
  },
  {
   "cell_type": "code",
   "execution_count": 28,
   "id": "e9acc3c9",
   "metadata": {},
   "outputs": [
    {
     "ename": "AttributeError",
     "evalue": "'Osoba' object has no attribute 'imie'",
     "output_type": "error",
     "traceback": [
      "\u001b[1;31m---------------------------------------------------------------------------\u001b[0m",
      "\u001b[1;31mAttributeError\u001b[0m                            Traceback (most recent call last)",
      "Input \u001b[1;32mIn [28]\u001b[0m, in \u001b[0;36m<cell line: 1>\u001b[1;34m()\u001b[0m\n\u001b[1;32m----> 1\u001b[0m \u001b[43mjurek\u001b[49m\u001b[38;5;241;43m.\u001b[39;49m\u001b[43mimie\u001b[49m\n",
      "\u001b[1;31mAttributeError\u001b[0m: 'Osoba' object has no attribute 'imie'"
     ]
    }
   ],
   "source": [
    "jurek.imie"
   ]
  },
  {
   "cell_type": "code",
   "execution_count": 29,
   "id": "63e214ae",
   "metadata": {},
   "outputs": [
    {
     "ename": "AttributeError",
     "evalue": "'Osoba' object has no attribute '_imie'",
     "output_type": "error",
     "traceback": [
      "\u001b[1;31m---------------------------------------------------------------------------\u001b[0m",
      "\u001b[1;31mAttributeError\u001b[0m                            Traceback (most recent call last)",
      "Input \u001b[1;32mIn [29]\u001b[0m, in \u001b[0;36m<cell line: 1>\u001b[1;34m()\u001b[0m\n\u001b[1;32m----> 1\u001b[0m \u001b[43mjurek\u001b[49m\u001b[38;5;241;43m.\u001b[39;49m\u001b[43m_imie\u001b[49m\n",
      "\u001b[1;31mAttributeError\u001b[0m: 'Osoba' object has no attribute '_imie'"
     ]
    }
   ],
   "source": [
    "jurek._imie"
   ]
  },
  {
   "cell_type": "code",
   "execution_count": 30,
   "id": "b97a32f2",
   "metadata": {},
   "outputs": [
    {
     "ename": "AttributeError",
     "evalue": "'Osoba' object has no attribute '__imie'",
     "output_type": "error",
     "traceback": [
      "\u001b[1;31m---------------------------------------------------------------------------\u001b[0m",
      "\u001b[1;31mAttributeError\u001b[0m                            Traceback (most recent call last)",
      "Input \u001b[1;32mIn [30]\u001b[0m, in \u001b[0;36m<cell line: 1>\u001b[1;34m()\u001b[0m\n\u001b[1;32m----> 1\u001b[0m \u001b[43mjurek\u001b[49m\u001b[38;5;241;43m.\u001b[39;49m\u001b[43m__imie\u001b[49m\n",
      "\u001b[1;31mAttributeError\u001b[0m: 'Osoba' object has no attribute '__imie'"
     ]
    }
   ],
   "source": [
    "jurek.__imie"
   ]
  },
  {
   "cell_type": "markdown",
   "id": "022ae5ed",
   "metadata": {},
   "source": [
    "#### Obsługa atrybutów - dekoratory\n",
    "\n",
    "Jak się więc prawidłowo dostawać do zmiennych? Przez tak zwane settery i gettery. Tworzone w Pythonie poprzez <b>dekorator</b> @property. Getter - zwraca wartość, Setter pozwala je zmieniać.\n",
    "\n",
    "#### Getter"
   ]
  },
  {
   "cell_type": "code",
   "execution_count": 32,
   "id": "7d1e0cd0",
   "metadata": {},
   "outputs": [],
   "source": [
    "class Osoba():\n",
    "    \n",
    "\n",
    "    def __init__(self, imie, nazwisko, data_urodzenia):\n",
    "        self._imie = imie\n",
    "        self._nazwisko = nazwisko\n",
    "        self._data_urodzenia = data_urodzenia\n",
    "        \n",
    "    @property #getter\n",
    "    def imie(self):\n",
    "        return self._imie\n",
    "    \n",
    "    @property\n",
    "    def nazwisko(self):\n",
    "        return self._nazwisko\n",
    "    \n",
    "    @property\n",
    "    def data_urodzenia(self):\n",
    "        return self._data_urodzenia"
   ]
  },
  {
   "cell_type": "markdown",
   "id": "abb35cd1",
   "metadata": {},
   "source": [
    "Wywołując Jurek.imie uruchamiamy tak naprawdę naszą funkcję gettera, nie wywołujemy atrybutu. To co tak naprawdę dostajemy to kopia, można jej użyć w operacjach poza klasą, ale samego atrybutu nie można zmienić:\n"
   ]
  },
  {
   "cell_type": "markdown",
   "id": "a34b3e89",
   "metadata": {},
   "source": [
    "\n",
    "#### Problem do rozwiązania\n",
    "\n",
    "Załóżmy, że mamy klasę Student, a w niej atrybut wiek. Nie chcemy, by ktoś ustawił wiek na wartość nieprawidłową (np. -5)."
   ]
  },
  {
   "cell_type": "code",
   "execution_count": 34,
   "id": "948cb054",
   "metadata": {},
   "outputs": [],
   "source": [
    "class Student:\n",
    "    def __init__(self, imie, wiek):\n",
    "        self.imie = imie\n",
    "        self.wiek = wiek\n",
    "\n",
    "s = Student(\"Ola\", -5)  # to nie powinno być możliwe"
   ]
  },
  {
   "cell_type": "markdown",
   "id": "284306c9",
   "metadata": {},
   "source": [
    "Wykonaj następująće zadania:\n",
    "\n",
    "    1. Zabezpiecz wiek w klasie Student (prywatny)\n",
    "    2. Stwórz getter dla arybutu wiek (raz imie)\n",
    "    3. Spróbuj zmienić wiek Oli po zmianie, co się stało?"
   ]
  },
  {
   "cell_type": "markdown",
   "id": "c743089f",
   "metadata": {},
   "source": [
    "#### Setter\n",
    "\n"
   ]
  },
  {
   "cell_type": "code",
   "execution_count": 33,
   "id": "31016156",
   "metadata": {},
   "outputs": [],
   "source": [
    "class Osoba():\n",
    "    \n",
    "\n",
    "    def __init__(self, imie, nazwisko, data_urodzenia):\n",
    "        self._imie = imie\n",
    "        self._nazwisko = nazwisko\n",
    "        self._data_urodzenia = data_urodzenia\n",
    "        \n",
    "    @property #getter\n",
    "    def imie(self):\n",
    "        return self._imie\n",
    "    \n",
    "    @property\n",
    "    def nazwisko(self):\n",
    "        return self._nazwisko\n",
    "    \n",
    "    @property\n",
    "    def data_urodzenia(self):\n",
    "        return self._data_urodzenia\n",
    "    \n",
    "    @imie.setter #setter\n",
    "    def imie(self, imie):\n",
    "        if len(imie) < 1:\n",
    "            print(\"Musisz podać imię\")\n",
    "        else:\n",
    "            self._imie = imie\n",
    "        "
   ]
  },
  {
   "cell_type": "markdown",
   "id": "fc43e64e",
   "metadata": {},
   "source": [
    "#### Problem do rozwiązania\n",
    "\n",
    "Przenieś kod do klasy Osoba poniżej i dodaj setter dla wieku, tak by nie nie było możliwe ustawienie wieku negatywnego dla klasy Osoba."
   ]
  },
  {
   "cell_type": "code",
   "execution_count": null,
   "id": "f058f1c0",
   "metadata": {},
   "outputs": [],
   "source": []
  },
  {
   "cell_type": "markdown",
   "id": "0ab2fe17",
   "metadata": {},
   "source": [
    "### Zadanie podsumowujące programowanie obiektowe\n",
    "\n",
    "1. Zaimplementuj klasę bazową PunktGeodezyjny, która przechowuje:\n",
    "    \n",
    "        chroniony atrybut _nazwa_punktu\n",
    "        prywatny atrybut __wysokosc_npm (wysokość nad poziomem morza w metrach)\n",
    "\n",
    "2. Zaimplementuj getter i setter dla wysokosc_npm, z walidacją:\n",
    "        \n",
    "        wartość musi być floatem z zakresu -400 do 9000 (dla miejsc typu Morze Martwe, Mount Everest)\n",
    "\n",
    "3. Dodaj metodę opis(), która zwraca np. \"Punkt 'XYZ' znajduje się na wysokości 245.3 m n.p.m.\"\n",
    "\n",
    "4. Zaimplementuj klasę PunktPomiarowy, dziedziczącą po PunktGeodezyjny, która zawiera:\n",
    "\n",
    "        prywatny atrybut __dokladnosc_pomiaru (w metrach)\n",
    "\n",
    "        getter i setter z walidacją: wartość dodatnia, float, max 100.0\n",
    "\n",
    "        metodę czy_dokladny(), która zwraca True, jeśli dokładność < 0.05\n",
    "        \n",
    "Szkielet kodu do wsparcia pracy:"
   ]
  },
  {
   "cell_type": "code",
   "execution_count": 35,
   "id": "546bb7cb",
   "metadata": {},
   "outputs": [
    {
     "ename": "IndentationError",
     "evalue": "expected an indented block (1545278538.py, line 9)",
     "output_type": "error",
     "traceback": [
      "\u001b[1;36m  Input \u001b[1;32mIn [35]\u001b[1;36m\u001b[0m\n\u001b[1;33m    @wysokosc_npm.setter\u001b[0m\n\u001b[1;37m    ^\u001b[0m\n\u001b[1;31mIndentationError\u001b[0m\u001b[1;31m:\u001b[0m expected an indented block\n"
     ]
    }
   ],
   "source": [
    "class PunktGeodezyjny:\n",
    "    \n",
    "    \n",
    "    def __init__(self, nazwa_punktu, wysokosc_npm):\n",
    "        #atrybuty\n",
    "\n",
    "    #gettery tutaj\n",
    "    \n",
    "    @wysokosc_npm.setter\n",
    "    def wysokosc_npm(self, wartosc):\n",
    "        # walidacja: float od -400 do 9000\n",
    "        pass\n",
    "\n",
    "    def opis(self):\n",
    "        # zwróć opis punktu z nazwą i wysokością\n",
    "        pass\n",
    "\n",
    "\n",
    "class PunktPomiarowy(PunktGeodezyjny):\n",
    "    def __init__(self, nazwa_punktu, wysokosc_npm, dokladnosc_pomiaru):\n",
    "        # super() oraz nowe parametry\n",
    "    \n",
    "    #nowe gettery\n",
    "\n",
    "    @dokladnosc_pomiaru.setter\n",
    "    def dokladnosc_pomiaru(self, wartosc):\n",
    "        # walidacja: float > 0, max 100.0\n",
    "        pass\n",
    "\n",
    "    def czy_dokladny(self):\n",
    "        # dokładność mniejsza niż 0.05 metra\n",
    "        pass\n"
   ]
  },
  {
   "cell_type": "markdown",
   "id": "a34e83a4",
   "metadata": {},
   "source": [
    "## Extra - funkcje magiczne do reprezentacji klas\n",
    "\n",
    "W Pythonie każda klasa może zdefiniować metody __str__() i __repr__(), które służą do tego, jak obiekt będzie reprezentowany jako tekst.\n",
    "\n",
    "`__str__()` – \"ładny\" opis dla użytkownika\n",
    "\n",
    "Ta metoda odpowiada za to, co zobaczysz np. przy print(obiekt). Powinna zwracać czytelny opis, np. używany w raportach, interfejsach użytkownika itp.\n",
    "\n",
    "`__repr__()` – \"surowy\" opis dla programisty\n",
    "\n",
    "Z kolei `__repr__()` powinien zwracać dokładniejszy opis obiektu, najlepiej taki, który można wkleić do kodu Pythona i utworzyć taki sam obiekt (gdy to możliwe). Jest wykorzystywany np. w trybie interaktywnym lub debuggerze.\n",
    "\n",
    "Zadanie: \n",
    "\n",
    "1. zmodyfikuj tak klasę PunktGeodezyjny by zastąpić metodę opis, funkcją magiczną `__repr__` oraz `__str__`. Sprawdź ich działanie."
   ]
  },
  {
   "cell_type": "code",
   "execution_count": null,
   "id": "8bd15878",
   "metadata": {},
   "outputs": [],
   "source": [
    "class PunktGeodezyjny:\n",
    "    \n",
    "    \n",
    "    def __init__(self, nazwa_punktu, wysokosc_npm):\n",
    "        #atrybuty\n",
    "\n",
    "    #gettery tutaj\n",
    "    \n",
    "    @wysokosc_npm.setter\n",
    "    def wysokosc_npm(self, wartosc):\n",
    "        # walidacja: float od -400 do 9000\n",
    "        pass\n",
    "\n",
    "    def __str__(self):\n",
    "        return #przygotuj tu opis\n",
    "\n",
    "    def __repr__(self):\n",
    "        return #przygotuj tu opis"
   ]
  }
 ],
 "metadata": {
  "kernelspec": {
   "display_name": "Python 3 (ipykernel)",
   "language": "python",
   "name": "python3"
  },
  "language_info": {
   "codemirror_mode": {
    "name": "ipython",
    "version": 3
   },
   "file_extension": ".py",
   "mimetype": "text/x-python",
   "name": "python",
   "nbconvert_exporter": "python",
   "pygments_lexer": "ipython3",
   "version": "3.9.12"
  }
 },
 "nbformat": 4,
 "nbformat_minor": 5
}
